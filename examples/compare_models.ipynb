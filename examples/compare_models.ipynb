{
 "cells": [
  {
   "cell_type": "markdown",
   "metadata": {},
   "source": [
    "One of the main tasks in Exploratory Data Analysis (EDA) is to explore how differernt preprocessing strategies may affect relatoinships between feature or some metric (e.g. classification accuracy). In this tutorial, I will show how to do this easily with _Xplore_ functionalities."
   ]
  },
  {
   "cell_type": "code",
   "execution_count": 19,
   "metadata": {
    "collapsed": true
   },
   "outputs": [],
   "source": [
    "import numpy as np\n",
    "import pandas as pd\n",
    "import matplotlib.pyplot as plt\n",
    "from sklearn.ensemble import RandomForestRegressor\n",
    "from sklearn.linear_model import Ridge, LinearRegression\n",
    "from sklearn.neural_network import MLPRegressor\n",
    "import seaborn as sns\n",
    "\n",
    "from xplore import Xplorer, read_pipeline, eval_models, plot_models\n",
    "\n",
    "%matplotlib inline"
   ]
  },
  {
   "cell_type": "code",
   "execution_count": 20,
   "metadata": {
    "collapsed": false
   },
   "outputs": [],
   "source": [
    "# import os\n",
    "# import tarfile\n",
    "# from six.moves import urllib\n",
    "\n",
    "# DOWNLOAD_ROOT = \"https://raw.githubusercontent.com/ageron/handson-ml/master/\"\n",
    "# HOUSING_PATH = \"data\"\n",
    "# HOUSING_URL = DOWNLOAD_ROOT + \"datasets/housing/housing.tgz\"\n",
    "\n",
    "# def fetch_housing_data(housing_url=HOUSING_URL, housing_path=HOUSING_PATH):\n",
    "#     if not os.path.isdir(housing_path):\n",
    "#         os.makedirs(housing_path)\n",
    "#     tgz_path = os.path.join(housing_path, \"housing.tgz\")\n",
    "#     urllib.request.urlretrieve(housing_url, tgz_path)\n",
    "#     housing_tgz = tarfile.open(tgz_path)\n",
    "#     housing_tgz.extractall(path=housing_path)\n",
    "#     housing_tgz.close()\n",
    "\n",
    "# def load_housing_data(housing_path=HOUSING_PATH):\n",
    "#     csv_path = os.path.join(housing_path, \"housing.csv\")\n",
    "#     return pd.read_csv(csv_path)\n",
    "\n",
    "# fetch_housing_data()"
   ]
  },
  {
   "cell_type": "code",
   "execution_count": 21,
   "metadata": {
    "collapsed": true
   },
   "outputs": [],
   "source": [
    "calif = Xplorer(df='data/housing.csv', y='median_house_value')\n",
    "calif.fix_types(col_types={'ocean_proximity': 'category'})\n",
    "calif.encode_categorical_feature(col='ocean_proximity')\n",
    "calif.impute_nans()\n",
    "calif.freeze_and_save_pipeline('calif_raw')"
   ]
  },
  {
   "cell_type": "code",
   "execution_count": 22,
   "metadata": {
    "collapsed": true
   },
   "outputs": [],
   "source": [
    "def baseline_pipeline(name):\n",
    "    pipe = read_pipeline(name)\n",
    "    return pipe"
   ]
  },
  {
   "cell_type": "code",
   "execution_count": 23,
   "metadata": {
    "collapsed": false
   },
   "outputs": [
    {
     "name": "stdout",
     "output_type": "stream",
     "text": [
      "Cannot log read_data properly.\n"
     ]
    }
   ],
   "source": [
    "calif = baseline_pipeline('calif_raw')\n",
    "calif.replace_outlier()\n",
    "calif.impute_nans()\n",
    "calif.scale_feature()"
   ]
  },
  {
   "cell_type": "code",
   "execution_count": 24,
   "metadata": {
    "collapsed": false
   },
   "outputs": [
    {
     "data": {
      "text/plain": [
       "[\"self.read_data(df='data/housing.csv')\",\n",
       " \"self.set_target(y='median_house_value')\",\n",
       " \"self.fix_types(col_types={'ocean_proximity': 'category'})\",\n",
       " \"self.encode_categorical_feature(col=['ocean_proximity'])\",\n",
       " \"self.fix_types(col_types={'ocean_proximity_<1H OCEAN': 'category', 'ocean_proximity_INLAND': 'category', 'ocean_proximity_ISLAND': 'category', 'ocean_proximity_NEAR BAY': 'category', 'ocean_proximity_NEAR OCEAN': 'category'})\",\n",
       " \"self.fix_types(col_types={'ocean_proximity_<1H OCEAN': 'category', 'ocean_proximity_INLAND': 'category', 'ocean_proximity_ISLAND': 'category', 'ocean_proximity_NEAR BAY': 'category', 'ocean_proximity_NEAR OCEAN': 'category'})\",\n",
       " \"self.impute_nans(col=['longitude', 'latitude', 'housing_median_age', 'total_rooms', 'total_bedrooms', 'population', 'households', 'median_income', 'median_house_value', 'ocean_proximity_<1H OCEAN', 'ocean_proximity_INLAND', 'ocean_proximity_ISLAND', 'ocean_proximity_NEAR BAY', 'ocean_proximity_NEAR OCEAN'],method='median')\",\n",
       " \"self.replace_outlier(col=['longitude', 'latitude', 'housing_median_age', 'total_rooms', 'total_bedrooms', 'population', 'households', 'median_income', 'median_house_value'],value=np.nan)\",\n",
       " \"self.impute_nans(col=['longitude', 'latitude', 'housing_median_age', 'total_rooms', 'total_bedrooms', 'population', 'households', 'median_income', 'median_house_value', 'ocean_proximity_<1H OCEAN', 'ocean_proximity_INLAND', 'ocean_proximity_ISLAND', 'ocean_proximity_NEAR BAY', 'ocean_proximity_NEAR OCEAN'],method='median')\",\n",
       " \"self.transform_feature(col=['longitude', 'latitude', 'housing_median_age', 'total_rooms', 'total_bedrooms', 'population', 'households', 'median_income', 'median_house_value'],func_str='minmax_scale',new_col_name=None,addtional_params={'feature_range': (0, 1), 'axis': 0})\"]"
      ]
     },
     "execution_count": 24,
     "metadata": {},
     "output_type": "execute_result"
    }
   ],
   "source": [
    "calif.log"
   ]
  },
  {
   "cell_type": "code",
   "execution_count": 25,
   "metadata": {
    "collapsed": true
   },
   "outputs": [],
   "source": [
    "calif.freeze_and_save_pipeline('calif_minimal_preprocessing')"
   ]
  },
  {
   "cell_type": "markdown",
   "metadata": {},
   "source": [
    "# Compare different models"
   ]
  },
  {
   "cell_type": "code",
   "execution_count": 26,
   "metadata": {
    "collapsed": false
   },
   "outputs": [
    {
     "name": "stdout",
     "output_type": "stream",
     "text": [
      "Cannot log read_data properly.\n",
      "Cannot log read_data properly.\n"
     ]
    }
   ],
   "source": [
    "tags = ['calif_raw', 'calif_minimal_preprocessing']\n",
    "eda_objs = [(name,read_pipeline(name)) for name in tags]\n",
    "clf = [('RF',RandomForestRegressor()),\n",
    "        ('Ridge',Ridge())\n",
    "      ]\n",
    "accs = eval_models(eda_objs, clf)"
   ]
  },
  {
   "cell_type": "code",
   "execution_count": 27,
   "metadata": {
    "collapsed": false,
    "scrolled": true
   },
   "outputs": [
    {
     "data": {
      "text/plain": [
       "<seaborn.axisgrid.FacetGrid at 0x112a8f710>"
      ]
     },
     "execution_count": 27,
     "metadata": {},
     "output_type": "execute_result"
    },
    {
     "data": {
      "image/png": "[encoded data removed]",
      "text/plain": [
       "<matplotlib.figure.Figure at 0x112a8fe10>"
      ]
     },
     "metadata": {},
     "output_type": "display_data"
    }
   ],
   "source": [
    "#plot_models(accs)\n",
    "cv_df = pd.DataFrame(accs, columns=['model','pipeline', 'score'])\n",
    "cv_df['score'].values[cv_df['score'].values<0] = 0.\n",
    "sns.factorplot(x='model',y='score', hue='pipeline', data=cv_df, kind='bar', size=4, aspect=2)"
   ]
  },
  {
   "cell_type": "code",
   "execution_count": 28,
   "metadata": {
    "collapsed": false
   },
   "outputs": [
    {
     "data": {
      "text/html": [
       "<div>\n",
       "<table border=\"1\" class=\"dataframe\">\n",
       "  <thead>\n",
       "    <tr style=\"text-align: right;\">\n",
       "      <th></th>\n",
       "      <th></th>\n",
       "      <th>score</th>\n",
       "    </tr>\n",
       "    <tr>\n",
       "      <th>model</th>\n",
       "      <th>pipeline</th>\n",
       "      <th></th>\n",
       "    </tr>\n",
       "  </thead>\n",
       "  <tbody>\n",
       "    <tr>\n",
       "      <th rowspan=\"2\" valign=\"top\">RF</th>\n",
       "      <th>calif_minimal_preprocessing</th>\n",
       "      <td>0.505694</td>\n",
       "    </tr>\n",
       "    <tr>\n",
       "      <th>calif_raw</th>\n",
       "      <td>0.460088</td>\n",
       "    </tr>\n",
       "    <tr>\n",
       "      <th rowspan=\"2\" valign=\"top\">Ridge</th>\n",
       "      <th>calif_minimal_preprocessing</th>\n",
       "      <td>0.452318</td>\n",
       "    </tr>\n",
       "    <tr>\n",
       "      <th>calif_raw</th>\n",
       "      <td>0.559590</td>\n",
       "    </tr>\n",
       "  </tbody>\n",
       "</table>\n",
       "</div>"
      ],
      "text/plain": [
       "                                      score\n",
       "model pipeline                             \n",
       "RF    calif_minimal_preprocessing  0.505694\n",
       "      calif_raw                    0.460088\n",
       "Ridge calif_minimal_preprocessing  0.452318\n",
       "      calif_raw                    0.559590"
      ]
     },
     "execution_count": 28,
     "metadata": {},
     "output_type": "execute_result"
    }
   ],
   "source": [
    "cv_df.groupby(['model','pipeline']).agg(np.mean)"
   ]
  },
  {
   "cell_type": "markdown",
   "metadata": {},
   "source": [
    "# Experiment differnt types of scaling"
   ]
  },
  {
   "cell_type": "code",
   "execution_count": 29,
   "metadata": {
    "collapsed": false
   },
   "outputs": [
    {
     "name": "stdout",
     "output_type": "stream",
     "text": [
      "Cannot log read_data properly.\n",
      "Cannot log read_data properly.\n",
      "Cannot log read_data properly.\n"
     ]
    }
   ],
   "source": [
    "scaling_type = ['minmax_scale', 'scale', 'maxabs_scale']\n",
    "tags = []\n",
    "for ix, st in enumerate(scaling_type):\n",
    "    calif_scale = baseline_pipeline('calif_raw')\n",
    "    calif_scale.scale_feature(scaling=st)\n",
    "    tag = '_'.join(['calif_scale', str(ix+1)])\n",
    "    calif_scale.freeze_and_save_pipeline(tag)\n",
    "    tags.append(tag)\n",
    "tags.append('calif_raw')"
   ]
  },
  {
   "cell_type": "code",
   "execution_count": 30,
   "metadata": {
    "collapsed": false
   },
   "outputs": [
    {
     "name": "stdout",
     "output_type": "stream",
     "text": [
      "Cannot log read_data properly.\n",
      "Cannot log read_data properly.\n",
      "Cannot log read_data properly.\n",
      "Cannot log read_data properly.\n"
     ]
    },
    {
     "name": "stderr",
     "output_type": "stream",
     "text": [
      "/Users/Home/anaconda/envs/dlnd/lib/python3.6/site-packages/sklearn/neural_network/multilayer_perceptron.py:563: ConvergenceWarning: Stochastic Optimizer: Maximum iterations reached and the optimization hasn't converged yet.\n",
      "  % (), ConvergenceWarning)\n",
      "/Users/Home/anaconda/envs/dlnd/lib/python3.6/site-packages/sklearn/neural_network/multilayer_perceptron.py:563: ConvergenceWarning: Stochastic Optimizer: Maximum iterations reached and the optimization hasn't converged yet.\n",
      "  % (), ConvergenceWarning)\n",
      "/Users/Home/anaconda/envs/dlnd/lib/python3.6/site-packages/sklearn/neural_network/multilayer_perceptron.py:563: ConvergenceWarning: Stochastic Optimizer: Maximum iterations reached and the optimization hasn't converged yet.\n",
      "  % (), ConvergenceWarning)\n",
      "/Users/Home/anaconda/envs/dlnd/lib/python3.6/site-packages/sklearn/neural_network/multilayer_perceptron.py:563: ConvergenceWarning: Stochastic Optimizer: Maximum iterations reached and the optimization hasn't converged yet.\n",
      "  % (), ConvergenceWarning)\n",
      "/Users/Home/anaconda/envs/dlnd/lib/python3.6/site-packages/sklearn/neural_network/multilayer_perceptron.py:563: ConvergenceWarning: Stochastic Optimizer: Maximum iterations reached and the optimization hasn't converged yet.\n",
      "  % (), ConvergenceWarning)\n"
     ]
    }
   ],
   "source": [
    "eda_objs = [(name,read_pipeline(name)) for name in tags]\n",
    "clf = [('RF',RandomForestRegressor()),\n",
    "       ('Ridge',Ridge()),\n",
    "       ('MLP', MLPRegressor())\n",
    "      ]\n",
    "accs = eval_models(eda_objs, clf)"
   ]
  },
  {
   "cell_type": "code",
   "execution_count": 31,
   "metadata": {
    "collapsed": false
   },
   "outputs": [
    {
     "data": {
      "text/plain": [
       "<seaborn.axisgrid.FacetGrid at 0x114324f60>"
      ]
     },
     "execution_count": 31,
     "metadata": {},
     "output_type": "execute_result"
    },
    {
     "data": {
      "image/png": "[encoded data removed]",
      "text/plain": [
       "<matplotlib.figure.Figure at 0x1142fa470>"
      ]
     },
     "metadata": {},
     "output_type": "display_data"
    }
   ],
   "source": [
    "cv_df = pd.DataFrame(accs, columns=['model','pipeline', 'score'])\n",
    "sns.factorplot(x='model',y='score', hue='pipeline', data=cv_df, kind='bar', size=4, aspect=2)"
   ]
  },
  {
   "cell_type": "code",
   "execution_count": 32,
   "metadata": {
    "collapsed": false
   },
   "outputs": [
    {
     "data": {
      "text/html": [
       "<div>\n",
       "<table border=\"1\" class=\"dataframe\">\n",
       "  <thead>\n",
       "    <tr>\n",
       "      <th></th>\n",
       "      <th></th>\n",
       "      <th colspan=\"2\" halign=\"left\">score</th>\n",
       "    </tr>\n",
       "    <tr>\n",
       "      <th></th>\n",
       "      <th></th>\n",
       "      <th>mean</th>\n",
       "      <th>std</th>\n",
       "    </tr>\n",
       "    <tr>\n",
       "      <th>model</th>\n",
       "      <th>pipeline</th>\n",
       "      <th></th>\n",
       "      <th></th>\n",
       "    </tr>\n",
       "  </thead>\n",
       "  <tbody>\n",
       "    <tr>\n",
       "      <th rowspan=\"4\" valign=\"top\">MLP</th>\n",
       "      <th>calif_raw</th>\n",
       "      <td>0.239000</td>\n",
       "      <td>0.110903</td>\n",
       "    </tr>\n",
       "    <tr>\n",
       "      <th>calif_scale_1</th>\n",
       "      <td>0.567454</td>\n",
       "      <td>0.088932</td>\n",
       "    </tr>\n",
       "    <tr>\n",
       "      <th>calif_scale_2</th>\n",
       "      <td>0.654912</td>\n",
       "      <td>0.045448</td>\n",
       "    </tr>\n",
       "    <tr>\n",
       "      <th>calif_scale_3</th>\n",
       "      <td>0.545449</td>\n",
       "      <td>0.096018</td>\n",
       "    </tr>\n",
       "    <tr>\n",
       "      <th rowspan=\"4\" valign=\"top\">RF</th>\n",
       "      <th>calif_raw</th>\n",
       "      <td>0.510031</td>\n",
       "      <td>0.174061</td>\n",
       "    </tr>\n",
       "    <tr>\n",
       "      <th>calif_scale_1</th>\n",
       "      <td>0.439622</td>\n",
       "      <td>0.251762</td>\n",
       "    </tr>\n",
       "    <tr>\n",
       "      <th>calif_scale_2</th>\n",
       "      <td>0.439977</td>\n",
       "      <td>0.274542</td>\n",
       "    </tr>\n",
       "    <tr>\n",
       "      <th>calif_scale_3</th>\n",
       "      <td>0.482196</td>\n",
       "      <td>0.205342</td>\n",
       "    </tr>\n",
       "    <tr>\n",
       "      <th rowspan=\"4\" valign=\"top\">Ridge</th>\n",
       "      <th>calif_raw</th>\n",
       "      <td>0.559590</td>\n",
       "      <td>0.087993</td>\n",
       "    </tr>\n",
       "    <tr>\n",
       "      <th>calif_scale_1</th>\n",
       "      <td>0.557027</td>\n",
       "      <td>0.089214</td>\n",
       "    </tr>\n",
       "    <tr>\n",
       "      <th>calif_scale_2</th>\n",
       "      <td>0.559574</td>\n",
       "      <td>0.088011</td>\n",
       "    </tr>\n",
       "    <tr>\n",
       "      <th>calif_scale_3</th>\n",
       "      <td>0.539418</td>\n",
       "      <td>0.092100</td>\n",
       "    </tr>\n",
       "  </tbody>\n",
       "</table>\n",
       "</div>"
      ],
      "text/plain": [
       "                        score          \n",
       "                         mean       std\n",
       "model pipeline                         \n",
       "MLP   calif_raw      0.239000  0.110903\n",
       "      calif_scale_1  0.567454  0.088932\n",
       "      calif_scale_2  0.654912  0.045448\n",
       "      calif_scale_3  0.545449  0.096018\n",
       "RF    calif_raw      0.510031  0.174061\n",
       "      calif_scale_1  0.439622  0.251762\n",
       "      calif_scale_2  0.439977  0.274542\n",
       "      calif_scale_3  0.482196  0.205342\n",
       "Ridge calif_raw      0.559590  0.087993\n",
       "      calif_scale_1  0.557027  0.089214\n",
       "      calif_scale_2  0.559574  0.088011\n",
       "      calif_scale_3  0.539418  0.092100"
      ]
     },
     "execution_count": 32,
     "metadata": {},
     "output_type": "execute_result"
    }
   ],
   "source": [
    "cv_df.groupby(['model','pipeline']).agg([np.mean,np.std])"
   ]
  },
  {
   "cell_type": "markdown",
   "metadata": {},
   "source": [
    "# Synthesize more features"
   ]
  },
  {
   "cell_type": "code",
   "execution_count": 33,
   "metadata": {
    "collapsed": false
   },
   "outputs": [
    {
     "name": "stdout",
     "output_type": "stream",
     "text": [
      "Cannot log read_data properly.\n"
     ]
    }
   ],
   "source": [
    "calif = baseline_pipeline('calif_raw')\n",
    "calif.transform_feature(col=['population','households','total_rooms','total_bedrooms',\n",
    "                             'median_income'], \n",
    "                        func_str='lambda x: np.log1p(x)')\n",
    "\n",
    "calif.freeze_and_save_pipeline('calif_all_log')"
   ]
  },
  {
   "cell_type": "code",
   "execution_count": 34,
   "metadata": {
    "collapsed": false
   },
   "outputs": [
    {
     "name": "stdout",
     "output_type": "stream",
     "text": [
      "Cannot log read_data properly.\n"
     ]
    }
   ],
   "source": [
    "calif = baseline_pipeline('calif_raw')\n",
    "\n",
    "#calif.transform_feature(col=['population','households','total_rooms','total_bedrooms','median_income'], func_str='lambda x: np.log1p(x)')\n",
    "\n",
    "calif.transform_feature(col=['population','households'], func_str='lambda x: x[0]/x[1]', \n",
    "                        new_col_name='pop_per_houshold', addtional_params={'axis':1})\n",
    "calif.transform_feature(col=['total_bedrooms','total_rooms'], func_str='lambda x: x[0]/x[1]', \n",
    "                        new_col_name='bedrooms_per_rooms', addtional_params={'axis':1})\n",
    "calif.transform_feature(col=['total_rooms','households'], func_str='lambda x: x[0]/x[1]', \n",
    "                        new_col_name='rooms_per_houshold', addtional_params={'axis':1})\n",
    "\n",
    "calif.freeze_and_save_pipeline('calif_new_features')"
   ]
  },
  {
   "cell_type": "code",
   "execution_count": 35,
   "metadata": {
    "collapsed": false
   },
   "outputs": [
    {
     "name": "stdout",
     "output_type": "stream",
     "text": [
      "Cannot log read_data properly.\n",
      "Cannot log read_data properly.\n",
      "Cannot log read_data properly.\n"
     ]
    }
   ],
   "source": [
    "tags = ['calif_raw','calif_new_features', 'calif_all_log']\n",
    "eda_objs = [(name,read_pipeline(name)) for name in tags]\n",
    "clf = [('RF',RandomForestRegressor()),\n",
    "       ('Ridge',Ridge())\n",
    "      ]\n",
    "accs = eval_models(eda_objs, clf)"
   ]
  },
  {
   "cell_type": "code",
   "execution_count": 36,
   "metadata": {
    "collapsed": false
   },
   "outputs": [
    {
     "data": {
      "text/plain": [
       "<seaborn.axisgrid.FacetGrid at 0x1142ca358>"
      ]
     },
     "execution_count": 36,
     "metadata": {},
     "output_type": "execute_result"
    },
    {
     "data": {
      "image/png": "[encoded data removed]",
      "text/plain": [
       "<matplotlib.figure.Figure at 0x1142ca908>"
      ]
     },
     "metadata": {},
     "output_type": "display_data"
    }
   ],
   "source": [
    "cv_df = pd.DataFrame(accs, columns=['model','pipeline', 'score'])\n",
    "#cv_df['score'].values[cv_df['score'].values<0] = 0.\n",
    "sns.factorplot(x='model',y='score', hue='pipeline', data=cv_df, kind='bar', size=4, aspect=2)"
   ]
  }
 ],
 "metadata": {
  "kernelspec": {
   "display_name": "Python 3",
   "language": "python",
   "name": "python3"
  },
  "language_info": {
   "codemirror_mode": {
    "name": "ipython",
    "version": 3
   },
   "file_extension": ".py",
   "mimetype": "text/x-python",
   "name": "python",
   "nbconvert_exporter": "python",
   "pygments_lexer": "ipython3",
   "version": "3.6.0"
  }
 },
 "nbformat": 4,
 "nbformat_minor": 2
}
